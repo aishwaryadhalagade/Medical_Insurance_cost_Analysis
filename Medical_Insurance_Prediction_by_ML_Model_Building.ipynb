{
  "nbformat": 4,
  "nbformat_minor": 0,
  "metadata": {
    "colab": {
      "name": "Medical Insurance Prediction by ML_Model Building.ipynb",
      "provenance": [],
      "collapsed_sections": [],
      "toc_visible": true
    },
    "kernelspec": {
      "name": "python3",
      "display_name": "Python 3"
    }
  },
  "cells": [
    {
      "cell_type": "markdown",
      "metadata": {
        "id": "128CcBXDkMfm"
      },
      "source": [
        "Medical Cost personal  Dataset - Insurance Forecast by using Regression algorithms of machine learning, Predicting the insurance costs.\n",
        "\n",
        "### Model Building and Tuning"
      ]
    },
    {
      "cell_type": "markdown",
      "metadata": {
        "id": "R8eiwoPVlLE6"
      },
      "source": [
        "#### Import the Libraries"
      ]
    },
    {
      "cell_type": "code",
      "metadata": {
        "id": "6RIjb24PkEEw"
      },
      "source": [
        "import pandas as pd\n",
        "import numpy as np"
      ],
      "execution_count": null,
      "outputs": []
    },
    {
      "cell_type": "markdown",
      "metadata": {
        "id": "4yTOC_rxlgIA"
      },
      "source": [
        "#### Load the dataset"
      ]
    },
    {
      "cell_type": "code",
      "metadata": {
        "colab": {
          "base_uri": "https://localhost:8080/",
          "height": 195
        },
        "id": "ipjiBlbHlevf",
        "outputId": "1295a2ae-0769-4c07-e56a-26daea55e34a"
      },
      "source": [
        "insurance = pd.read_csv('drive/MyDrive/Datasets/insurance_clean.csv')\n",
        "insurance.head()"
      ],
      "execution_count": null,
      "outputs": [
        {
          "output_type": "execute_result",
          "data": {
            "text/html": [
              "<div>\n",
              "<style scoped>\n",
              "    .dataframe tbody tr th:only-of-type {\n",
              "        vertical-align: middle;\n",
              "    }\n",
              "\n",
              "    .dataframe tbody tr th {\n",
              "        vertical-align: top;\n",
              "    }\n",
              "\n",
              "    .dataframe thead th {\n",
              "        text-align: right;\n",
              "    }\n",
              "</style>\n",
              "<table border=\"1\" class=\"dataframe\">\n",
              "  <thead>\n",
              "    <tr style=\"text-align: right;\">\n",
              "      <th></th>\n",
              "      <th>age</th>\n",
              "      <th>sex</th>\n",
              "      <th>bmi</th>\n",
              "      <th>children</th>\n",
              "      <th>smoker</th>\n",
              "      <th>region</th>\n",
              "      <th>charges</th>\n",
              "    </tr>\n",
              "  </thead>\n",
              "  <tbody>\n",
              "    <tr>\n",
              "      <th>0</th>\n",
              "      <td>19</td>\n",
              "      <td>0</td>\n",
              "      <td>27.900</td>\n",
              "      <td>0</td>\n",
              "      <td>1</td>\n",
              "      <td>3</td>\n",
              "      <td>16884.92400</td>\n",
              "    </tr>\n",
              "    <tr>\n",
              "      <th>1</th>\n",
              "      <td>18</td>\n",
              "      <td>1</td>\n",
              "      <td>33.770</td>\n",
              "      <td>1</td>\n",
              "      <td>0</td>\n",
              "      <td>2</td>\n",
              "      <td>1725.55230</td>\n",
              "    </tr>\n",
              "    <tr>\n",
              "      <th>2</th>\n",
              "      <td>28</td>\n",
              "      <td>1</td>\n",
              "      <td>33.000</td>\n",
              "      <td>3</td>\n",
              "      <td>0</td>\n",
              "      <td>2</td>\n",
              "      <td>4449.46200</td>\n",
              "    </tr>\n",
              "    <tr>\n",
              "      <th>3</th>\n",
              "      <td>33</td>\n",
              "      <td>1</td>\n",
              "      <td>22.705</td>\n",
              "      <td>0</td>\n",
              "      <td>0</td>\n",
              "      <td>1</td>\n",
              "      <td>21984.47061</td>\n",
              "    </tr>\n",
              "    <tr>\n",
              "      <th>4</th>\n",
              "      <td>32</td>\n",
              "      <td>1</td>\n",
              "      <td>28.880</td>\n",
              "      <td>0</td>\n",
              "      <td>0</td>\n",
              "      <td>1</td>\n",
              "      <td>3866.85520</td>\n",
              "    </tr>\n",
              "  </tbody>\n",
              "</table>\n",
              "</div>"
            ],
            "text/plain": [
              "   age  sex     bmi  children  smoker  region      charges\n",
              "0   19    0  27.900         0       1       3  16884.92400\n",
              "1   18    1  33.770         1       0       2   1725.55230\n",
              "2   28    1  33.000         3       0       2   4449.46200\n",
              "3   33    1  22.705         0       0       1  21984.47061\n",
              "4   32    1  28.880         0       0       1   3866.85520"
            ]
          },
          "metadata": {
            "tags": []
          },
          "execution_count": 2
        }
      ]
    },
    {
      "cell_type": "markdown",
      "metadata": {
        "id": "F8PIkaJB6ku5"
      },
      "source": [
        "#### Features and Target variables"
      ]
    },
    {
      "cell_type": "code",
      "metadata": {
        "id": "ap3gHusQ6ues"
      },
      "source": [
        "X = insurance.iloc[:,0:6].values     # features\n",
        "y = insurance.iloc[:, 6:7].values    # Target"
      ],
      "execution_count": null,
      "outputs": []
    },
    {
      "cell_type": "markdown",
      "metadata": {
        "id": "9CVqf6_-7x9K"
      },
      "source": [
        "#### Splitting the data into train and test\n",
        "\n"
      ]
    },
    {
      "cell_type": "code",
      "metadata": {
        "colab": {
          "base_uri": "https://localhost:8080/"
        },
        "id": "C3L-9twy7vR7",
        "outputId": "94c69762-5403-41d5-8c04-d8ee23e00baa"
      },
      "source": [
        "from sklearn.model_selection import train_test_split\n",
        "X_train, X_test, y_train, y_test = train_test_split(X, y, test_size = 0.2, random_state = 0)\n",
        "print('X_train: ', X_train.shape)\n",
        "print('X_test: ', X_test.shape)\n",
        "print('y_train: ', y_train.shape)\n",
        "print('y_test: ', y_test.shape)"
      ],
      "execution_count": null,
      "outputs": [
        {
          "output_type": "stream",
          "text": [
            "X_train:  (1070, 6)\n",
            "X_test:  (268, 6)\n",
            "y_train:  (1070, 1)\n",
            "y_test:  (268, 1)\n"
          ],
          "name": "stdout"
        }
      ]
    },
    {
      "cell_type": "markdown",
      "metadata": {
        "id": "yJT9pXI49HUm"
      },
      "source": [
        "#### Linear Regression Model Building\n"
      ]
    },
    {
      "cell_type": "markdown",
      "metadata": {
        "id": "XfYEaCsffrr8"
      },
      "source": [
        "##### Linear Regression"
      ]
    },
    {
      "cell_type": "code",
      "metadata": {
        "colab": {
          "base_uri": "https://localhost:8080/"
        },
        "id": "gpHcsIK58X8C",
        "outputId": "b4f5ad2c-6a13-4457-d678-40438bede51a"
      },
      "source": [
        "from sklearn.linear_model import LinearRegression\n",
        "lin_reg = LinearRegression(n_jobs= 2,normalize= True)\n",
        "lin_reg.fit(X_train, y_train)"
      ],
      "execution_count": null,
      "outputs": [
        {
          "output_type": "execute_result",
          "data": {
            "text/plain": [
              "LinearRegression(copy_X=True, fit_intercept=True, n_jobs=2, normalize=True)"
            ]
          },
          "metadata": {
            "tags": []
          },
          "execution_count": 5
        }
      ]
    },
    {
      "cell_type": "code",
      "metadata": {
        "colab": {
          "base_uri": "https://localhost:8080/"
        },
        "id": "MIt1yCUO9kFS",
        "outputId": "92251cf2-c5f1-4f4a-d673-958a7a8a6b2a"
      },
      "source": [
        "from sklearn.metrics import mean_squared_error, r2_score\n",
        "print('Score on training set: ',lin_reg.score(X_train, y_train))"
      ],
      "execution_count": null,
      "outputs": [
        {
          "output_type": "stream",
          "text": [
            "Score on training set:  0.7368306228430945\n"
          ],
          "name": "stdout"
        }
      ]
    },
    {
      "cell_type": "code",
      "metadata": {
        "colab": {
          "base_uri": "https://localhost:8080/",
          "height": 402
        },
        "id": "b2iUZNDi-OnL",
        "outputId": "b6bfcc83-ad62-409c-c53b-18abfef6e6cf"
      },
      "source": [
        "y_pred = lin_reg.predict(X_test)                     # y_pred = test set predicted profits and they are predicted on x_test = features of test set to get y_pred(label of test set)\n",
        "np.set_printoptions(precision = 2)                        \n",
        "df = np.concatenate((y_pred.reshape(len(y_pred),1),y_test.reshape(len(y_test),1)),axis = 1)\n",
        "df = pd.DataFrame(df)\n",
        "df"
      ],
      "execution_count": null,
      "outputs": [
        {
          "output_type": "execute_result",
          "data": {
            "text/html": [
              "<div>\n",
              "<style scoped>\n",
              "    .dataframe tbody tr th:only-of-type {\n",
              "        vertical-align: middle;\n",
              "    }\n",
              "\n",
              "    .dataframe tbody tr th {\n",
              "        vertical-align: top;\n",
              "    }\n",
              "\n",
              "    .dataframe thead th {\n",
              "        text-align: right;\n",
              "    }\n",
              "</style>\n",
              "<table border=\"1\" class=\"dataframe\">\n",
              "  <thead>\n",
              "    <tr style=\"text-align: right;\">\n",
              "      <th></th>\n",
              "      <th>0</th>\n",
              "      <th>1</th>\n",
              "    </tr>\n",
              "  </thead>\n",
              "  <tbody>\n",
              "    <tr>\n",
              "      <th>0</th>\n",
              "      <td>11017.230479</td>\n",
              "      <td>9724.53000</td>\n",
              "    </tr>\n",
              "    <tr>\n",
              "      <th>1</th>\n",
              "      <td>9787.530168</td>\n",
              "      <td>8547.69130</td>\n",
              "    </tr>\n",
              "    <tr>\n",
              "      <th>2</th>\n",
              "      <td>37994.782118</td>\n",
              "      <td>45702.02235</td>\n",
              "    </tr>\n",
              "    <tr>\n",
              "      <th>3</th>\n",
              "      <td>16122.778407</td>\n",
              "      <td>12950.07120</td>\n",
              "    </tr>\n",
              "    <tr>\n",
              "      <th>4</th>\n",
              "      <td>6930.759230</td>\n",
              "      <td>9644.25250</td>\n",
              "    </tr>\n",
              "    <tr>\n",
              "      <th>...</th>\n",
              "      <td>...</td>\n",
              "      <td>...</td>\n",
              "    </tr>\n",
              "    <tr>\n",
              "      <th>263</th>\n",
              "      <td>14699.098767</td>\n",
              "      <td>15019.76005</td>\n",
              "    </tr>\n",
              "    <tr>\n",
              "      <th>264</th>\n",
              "      <td>8210.854549</td>\n",
              "      <td>6664.68595</td>\n",
              "    </tr>\n",
              "    <tr>\n",
              "      <th>265</th>\n",
              "      <td>16019.284542</td>\n",
              "      <td>20709.02034</td>\n",
              "    </tr>\n",
              "    <tr>\n",
              "      <th>266</th>\n",
              "      <td>33104.944084</td>\n",
              "      <td>40932.42950</td>\n",
              "    </tr>\n",
              "    <tr>\n",
              "      <th>267</th>\n",
              "      <td>9471.247528</td>\n",
              "      <td>9500.57305</td>\n",
              "    </tr>\n",
              "  </tbody>\n",
              "</table>\n",
              "<p>268 rows × 2 columns</p>\n",
              "</div>"
            ],
            "text/plain": [
              "                0            1\n",
              "0    11017.230479   9724.53000\n",
              "1     9787.530168   8547.69130\n",
              "2    37994.782118  45702.02235\n",
              "3    16122.778407  12950.07120\n",
              "4     6930.759230   9644.25250\n",
              "..            ...          ...\n",
              "263  14699.098767  15019.76005\n",
              "264   8210.854549   6664.68595\n",
              "265  16019.284542  20709.02034\n",
              "266  33104.944084  40932.42950\n",
              "267   9471.247528   9500.57305\n",
              "\n",
              "[268 rows x 2 columns]"
            ]
          },
          "metadata": {
            "tags": []
          },
          "execution_count": 7
        }
      ]
    },
    {
      "cell_type": "code",
      "metadata": {
        "colab": {
          "base_uri": "https://localhost:8080/"
        },
        "id": "hESB0D25-g4n",
        "outputId": "d75c001b-2f53-4213-cd4f-42c11525a6bb"
      },
      "source": [
        "from sklearn.metrics import r2_score\n",
        "print('r2 score: ' , r2_score(y_test, y_pred))\n",
        "print('Linear model RMSE: {}'.format(np.sqrt(mean_squared_error(y_test, y_pred))))"
      ],
      "execution_count": null,
      "outputs": [
        {
          "output_type": "stream",
          "text": [
            "r2 score:  0.7998747145449959\n",
            "Linear model RMSE: 5643.219748880902\n"
          ],
          "name": "stdout"
        }
      ]
    },
    {
      "cell_type": "markdown",
      "metadata": {
        "id": "CO_WO0kbAbOS"
      },
      "source": [
        "Cross Validation of Linear Regression model"
      ]
    },
    {
      "cell_type": "code",
      "metadata": {
        "colab": {
          "base_uri": "https://localhost:8080/"
        },
        "id": "YE1UDp7R_KlA",
        "outputId": "c6a32d7e-9d94-4b9c-821f-88b63166497c"
      },
      "source": [
        "from sklearn.model_selection import cross_val_predict, cross_val_score\n",
        "cv_lin_reg = -cross_val_score(lin_reg, X_train, y_train, cv = 3, scoring = 'neg_mean_squared_error').mean()\n",
        "print('RMSE of tuned model - Training: {}'.format(np.sqrt(cv_lin_reg)))\n",
        "\n",
        "y_pred_cv = cross_val_predict(lin_reg, X_test, y_test, cv = 5)\n",
        "print('RMSE of tuned model - Testing: {}'.format(np.sqrt(mean_squared_error(y_test, y_pred_cv))))"
      ],
      "execution_count": null,
      "outputs": [
        {
          "output_type": "stream",
          "text": [
            "RMSE of tuned model - Training: 6175.696747119696\n",
            "RMSE of tuned model - Testing: 5720.416660643799\n"
          ],
          "name": "stdout"
        }
      ]
    },
    {
      "cell_type": "markdown",
      "metadata": {
        "id": "NnWnDFJFYaIh"
      },
      "source": [
        "##### Ridge Regression"
      ]
    },
    {
      "cell_type": "code",
      "metadata": {
        "colab": {
          "base_uri": "https://localhost:8080/"
        },
        "id": "mnC7T6uPB_6D",
        "outputId": "9e338a0b-932a-49e6-81ba-c497bc13899f"
      },
      "source": [
        "from sklearn.linear_model import Ridge\n",
        "ridge_reg = Ridge()\n",
        "ridge_reg.fit(X_train, y_train)"
      ],
      "execution_count": null,
      "outputs": [
        {
          "output_type": "execute_result",
          "data": {
            "text/plain": [
              "Ridge(alpha=1.0, copy_X=True, fit_intercept=True, max_iter=None,\n",
              "      normalize=False, random_state=None, solver='auto', tol=0.001)"
            ]
          },
          "metadata": {
            "tags": []
          },
          "execution_count": 10
        }
      ]
    },
    {
      "cell_type": "code",
      "metadata": {
        "colab": {
          "base_uri": "https://localhost:8080/"
        },
        "id": "gzrwgsHCY1U4",
        "outputId": "76b90177-b004-4d77-c548-437ef2d0f09d"
      },
      "source": [
        "from sklearn.metrics import mean_squared_error, r2_score\n",
        "print('Score on training set: ',ridge_reg.score(X_train, y_train))"
      ],
      "execution_count": null,
      "outputs": [
        {
          "output_type": "stream",
          "text": [
            "Score on training set:  0.7368099378903962\n"
          ],
          "name": "stdout"
        }
      ]
    },
    {
      "cell_type": "code",
      "metadata": {
        "colab": {
          "base_uri": "https://localhost:8080/"
        },
        "id": "EWgHeL_cZHdp",
        "outputId": "25c09bca-8466-446f-f4ac-dc1cbc1923bb"
      },
      "source": [
        "y_pred_ridge = ridge_reg.predict(X_test)\n",
        "print('r2 score: ' , r2_score(y_test, y_pred_ridge))\n",
        "print('Ridge model RMSE: {}'.format(np.sqrt(mean_squared_error(y_test, y_pred_ridge))))"
      ],
      "execution_count": null,
      "outputs": [
        {
          "output_type": "stream",
          "text": [
            "r2 score:  0.7995147965249456\n",
            "Ridge model RMSE: 5648.292031679053\n"
          ],
          "name": "stdout"
        }
      ]
    },
    {
      "cell_type": "markdown",
      "metadata": {
        "id": "QWGUbFyVZ2oz"
      },
      "source": [
        "Model Tuning for Ridge Regression"
      ]
    },
    {
      "cell_type": "code",
      "metadata": {
        "colab": {
          "base_uri": "https://localhost:8080/"
        },
        "id": "tAu_hRmJZmjf",
        "outputId": "0f6fb79c-f7a7-46c3-c6f6-3c1ae877d6c9"
      },
      "source": [
        "from sklearn.linear_model import RidgeCV\n",
        "lambdas = 10**np.linspace(-5,5,500)*0.5\n",
        "ridge_cv = RidgeCV(alphas = lambdas, scoring = 'neg_mean_squared_error', normalize = True,)\n",
        "ridge_cv.fit(X_train, y_train)"
      ],
      "execution_count": null,
      "outputs": [
        {
          "output_type": "execute_result",
          "data": {
            "text/plain": [
              "RidgeCV(alphas=array([5.00e-06, 5.24e-06, 5.48e-06, 5.74e-06, 6.01e-06, 6.30e-06,\n",
              "       6.59e-06, 6.91e-06, 7.23e-06, 7.57e-06, 7.93e-06, 8.31e-06,\n",
              "       8.70e-06, 9.11e-06, 9.54e-06, 9.99e-06, 1.05e-05, 1.10e-05,\n",
              "       1.15e-05, 1.20e-05, 1.26e-05, 1.32e-05, 1.38e-05, 1.45e-05,\n",
              "       1.51e-05, 1.58e-05, 1.66e-05, 1.74e-05, 1.82e-05, 1.91e-05,\n",
              "       2.00e-05, 2.09e-05, 2.19e-05, 2.29e-05, 2.40e-05, 2.51e-05,\n",
              "       2.63...\n",
              "       1.20e+04, 1.25e+04, 1.31e+04, 1.37e+04, 1.44e+04, 1.51e+04,\n",
              "       1.58e+04, 1.65e+04, 1.73e+04, 1.81e+04, 1.90e+04, 1.99e+04,\n",
              "       2.08e+04, 2.18e+04, 2.28e+04, 2.39e+04, 2.50e+04, 2.62e+04,\n",
              "       2.74e+04, 2.87e+04, 3.01e+04, 3.15e+04, 3.30e+04, 3.46e+04,\n",
              "       3.62e+04, 3.79e+04, 3.97e+04, 4.16e+04, 4.35e+04, 4.56e+04,\n",
              "       4.77e+04, 5.00e+04]),\n",
              "        cv=None, fit_intercept=True, gcv_mode=None, normalize=True,\n",
              "        scoring='neg_mean_squared_error', store_cv_values=False)"
            ]
          },
          "metadata": {
            "tags": []
          },
          "execution_count": 13
        }
      ]
    },
    {
      "cell_type": "code",
      "metadata": {
        "colab": {
          "base_uri": "https://localhost:8080/"
        },
        "id": "Uq3Df30Xafjn",
        "outputId": "9efd24b2-568b-44a2-adce-04a1a2d75b9e"
      },
      "source": [
        "ridge_cv.alpha_"
      ],
      "execution_count": null,
      "outputs": [
        {
          "output_type": "execute_result",
          "data": {
            "text/plain": [
              "0.002109699040402512"
            ]
          },
          "metadata": {
            "tags": []
          },
          "execution_count": 14
        }
      ]
    },
    {
      "cell_type": "code",
      "metadata": {
        "colab": {
          "base_uri": "https://localhost:8080/"
        },
        "id": "NVv1us0Farz2",
        "outputId": "4308ba42-ec48-4116-ef57-624150f2ee37"
      },
      "source": [
        "ridge_reg_tuned = Ridge(alpha= ridge_cv.alpha_, normalize= True,random_state= 0)\n",
        "ridge_reg_tuned.fit(X_train, y_train)"
      ],
      "execution_count": null,
      "outputs": [
        {
          "output_type": "execute_result",
          "data": {
            "text/plain": [
              "Ridge(alpha=0.002109699040402512, copy_X=True, fit_intercept=True,\n",
              "      max_iter=None, normalize=True, random_state=0, solver='auto', tol=0.001)"
            ]
          },
          "metadata": {
            "tags": []
          },
          "execution_count": 15
        }
      ]
    },
    {
      "cell_type": "code",
      "metadata": {
        "colab": {
          "base_uri": "https://localhost:8080/"
        },
        "id": "fR254do-bXCY",
        "outputId": "aab37f57-64ec-4334-91f6-cc85eb0b5d1f"
      },
      "source": [
        "y_pred_ridge_tune = ridge_reg_tuned.predict(X_test)\n",
        "print('r2 score: ' , r2_score(y_test, y_pred_ridge_tune))\n",
        "print('Ridge Tuned model RMSE: {}'.format(np.sqrt(mean_squared_error(y_test, y_pred_ridge_tune))))"
      ],
      "execution_count": null,
      "outputs": [
        {
          "output_type": "stream",
          "text": [
            "r2 score:  0.7997114575379172\n",
            "Ridge Tuned model RMSE: 5645.521075644364\n"
          ],
          "name": "stdout"
        }
      ]
    },
    {
      "cell_type": "markdown",
      "metadata": {
        "id": "GGebryHUcaWG"
      },
      "source": [
        "##### Lasso Regression"
      ]
    },
    {
      "cell_type": "code",
      "metadata": {
        "colab": {
          "base_uri": "https://localhost:8080/"
        },
        "id": "3CPxRuK5btV0",
        "outputId": "ab4870e1-4ad9-421c-b9bb-88b7fc1be9d4"
      },
      "source": [
        "from sklearn.linear_model import Lasso\n",
        "lasso_reg = Lasso(max_iter=1000)\n",
        "lasso_reg.fit(X_train, y_train)"
      ],
      "execution_count": null,
      "outputs": [
        {
          "output_type": "execute_result",
          "data": {
            "text/plain": [
              "Lasso(alpha=1.0, copy_X=True, fit_intercept=True, max_iter=1000,\n",
              "      normalize=False, positive=False, precompute=False, random_state=None,\n",
              "      selection='cyclic', tol=0.0001, warm_start=False)"
            ]
          },
          "metadata": {
            "tags": []
          },
          "execution_count": 17
        }
      ]
    },
    {
      "cell_type": "code",
      "metadata": {
        "colab": {
          "base_uri": "https://localhost:8080/"
        },
        "id": "QnFjBzNBcrcd",
        "outputId": "ab46ad58-d92f-4642-c642-1599f1845d25"
      },
      "source": [
        "from sklearn.metrics import mean_squared_error, r2_score\n",
        "print('Score on training set: ',lasso_reg.score(X_train, y_train))\n",
        "\n",
        "y_pred_lasso = lasso_reg.predict(X_test)\n",
        "print('r2 score: ' , r2_score(y_test, y_pred_lasso))\n",
        "print('Lasso model RMSE: {}'.format(np.sqrt(mean_squared_error(y_test, y_pred_lasso))))"
      ],
      "execution_count": null,
      "outputs": [
        {
          "output_type": "stream",
          "text": [
            "Score on training set:  0.7368305371730299\n",
            "r2 score:  0.7998461817644503\n",
            "Lasso model RMSE: 5643.622024414162\n"
          ],
          "name": "stdout"
        }
      ]
    },
    {
      "cell_type": "markdown",
      "metadata": {
        "id": "9OULiAaLdWeI"
      },
      "source": [
        "Model Tuning for Lasso Regression"
      ]
    },
    {
      "cell_type": "code",
      "metadata": {
        "colab": {
          "base_uri": "https://localhost:8080/"
        },
        "id": "ungUHtGLc0ZP",
        "outputId": "3aa7c5fb-b590-4d87-c4b0-8fceecd41649"
      },
      "source": [
        "from sklearn.linear_model import LassoCV\n",
        "lasso_cv_reg = LassoCV(cv = 15, max_iter = 1000, normalize= True)\n",
        "lasso_cv_reg.fit(X_train, y_train)"
      ],
      "execution_count": null,
      "outputs": [
        {
          "output_type": "stream",
          "text": [
            "/usr/local/lib/python3.7/dist-packages/sklearn/linear_model/_coordinate_descent.py:1088: DataConversionWarning: A column-vector y was passed when a 1d array was expected. Please change the shape of y to (n_samples, ), for example using ravel().\n",
            "  y = column_or_1d(y, warn=True)\n"
          ],
          "name": "stderr"
        },
        {
          "output_type": "execute_result",
          "data": {
            "text/plain": [
              "LassoCV(alphas=None, copy_X=True, cv=15, eps=0.001, fit_intercept=True,\n",
              "        max_iter=1000, n_alphas=100, n_jobs=None, normalize=True,\n",
              "        positive=False, precompute='auto', random_state=None,\n",
              "        selection='cyclic', tol=0.0001, verbose=False)"
            ]
          },
          "metadata": {
            "tags": []
          },
          "execution_count": 19
        }
      ]
    },
    {
      "cell_type": "code",
      "metadata": {
        "colab": {
          "base_uri": "https://localhost:8080/"
        },
        "id": "3IZJoNg5d4xh",
        "outputId": "c295e3e2-8fe3-40a4-efce-ea3ce9b75b16"
      },
      "source": [
        "lasso_cv_reg.alpha_"
      ],
      "execution_count": null,
      "outputs": [
        {
          "output_type": "execute_result",
          "data": {
            "text/plain": [
              "0.8689876273541082"
            ]
          },
          "metadata": {
            "tags": []
          },
          "execution_count": 20
        }
      ]
    },
    {
      "cell_type": "code",
      "metadata": {
        "colab": {
          "base_uri": "https://localhost:8080/"
        },
        "id": "yiyBjpL9d95C",
        "outputId": "fa64818c-de27-47d8-eac1-9137d2955e4b"
      },
      "source": [
        "lasso_tuned = Lasso(alpha= lasso_cv_reg.alpha_, max_iter= 5000, random_state= 0)\n",
        "lasso_tuned.fit(X_train, y_train)"
      ],
      "execution_count": null,
      "outputs": [
        {
          "output_type": "execute_result",
          "data": {
            "text/plain": [
              "Lasso(alpha=0.8689876273541082, copy_X=True, fit_intercept=True, max_iter=5000,\n",
              "      normalize=False, positive=False, precompute=False, random_state=0,\n",
              "      selection='cyclic', tol=0.0001, warm_start=False)"
            ]
          },
          "metadata": {
            "tags": []
          },
          "execution_count": 21
        }
      ]
    },
    {
      "cell_type": "code",
      "metadata": {
        "colab": {
          "base_uri": "https://localhost:8080/"
        },
        "id": "lL7uZYyZeaET",
        "outputId": "ded2448c-d628-4f0b-cb5f-996b3ccec293"
      },
      "source": [
        "y_pred_lasso_tune = lasso_tuned.predict(X_test)\n",
        "print('r2 score: ' , r2_score(y_test, y_pred_lasso_tune))\n",
        "print('Lasso Tuned model RMSE: {}'.format(np.sqrt(mean_squared_error(y_test, y_pred_lasso_tune))))"
      ],
      "execution_count": null,
      "outputs": [
        {
          "output_type": "stream",
          "text": [
            "r2 score:  0.799849928252933\n",
            "Lasso Tuned model RMSE: 5643.569205377171\n"
          ],
          "name": "stdout"
        }
      ]
    },
    {
      "cell_type": "markdown",
      "metadata": {
        "id": "YM8sO99afjFm"
      },
      "source": [
        "#### Random Forest Regression Model Building"
      ]
    },
    {
      "cell_type": "code",
      "metadata": {
        "colab": {
          "base_uri": "https://localhost:8080/"
        },
        "id": "NLRbnaEoeslF",
        "outputId": "d89ced8b-ec79-4cb8-9eae-14125eccd1b8"
      },
      "source": [
        "from sklearn.ensemble import RandomForestRegressor\n",
        "\n",
        "rf_reg = RandomForestRegressor(n_estimators= 100, criterion= 'mae')\n",
        "rf_reg.fit(X_train , y_train)"
      ],
      "execution_count": null,
      "outputs": [
        {
          "output_type": "stream",
          "text": [
            "/usr/local/lib/python3.7/dist-packages/ipykernel_launcher.py:4: DataConversionWarning: A column-vector y was passed when a 1d array was expected. Please change the shape of y to (n_samples,), for example using ravel().\n",
            "  after removing the cwd from sys.path.\n"
          ],
          "name": "stderr"
        },
        {
          "output_type": "execute_result",
          "data": {
            "text/plain": [
              "RandomForestRegressor(bootstrap=True, ccp_alpha=0.0, criterion='mae',\n",
              "                      max_depth=None, max_features='auto', max_leaf_nodes=None,\n",
              "                      max_samples=None, min_impurity_decrease=0.0,\n",
              "                      min_impurity_split=None, min_samples_leaf=1,\n",
              "                      min_samples_split=2, min_weight_fraction_leaf=0.0,\n",
              "                      n_estimators=100, n_jobs=None, oob_score=False,\n",
              "                      random_state=None, verbose=0, warm_start=False)"
            ]
          },
          "metadata": {
            "tags": []
          },
          "execution_count": 23
        }
      ]
    },
    {
      "cell_type": "code",
      "metadata": {
        "colab": {
          "base_uri": "https://localhost:8080/",
          "height": 402
        },
        "id": "-i9ESGwHi5xS",
        "outputId": "fc320533-c34a-43e5-f196-58b3cbed8b21"
      },
      "source": [
        "y_pred_rf = rf_reg.predict(X_test)                     # y_pred = test set predicted profits and they are predicted on x_test = features of test set to get y_pred(label of test set)\n",
        "np.set_printoptions(precision = 2)                        \n",
        "df = np.concatenate((y_pred_rf.reshape(len(y_pred_rf),1),y_test.reshape(len(y_test),1)),axis = 1)\n",
        "df = pd.DataFrame(df)\n",
        "df"
      ],
      "execution_count": null,
      "outputs": [
        {
          "output_type": "execute_result",
          "data": {
            "text/html": [
              "<div>\n",
              "<style scoped>\n",
              "    .dataframe tbody tr th:only-of-type {\n",
              "        vertical-align: middle;\n",
              "    }\n",
              "\n",
              "    .dataframe tbody tr th {\n",
              "        vertical-align: top;\n",
              "    }\n",
              "\n",
              "    .dataframe thead th {\n",
              "        text-align: right;\n",
              "    }\n",
              "</style>\n",
              "<table border=\"1\" class=\"dataframe\">\n",
              "  <thead>\n",
              "    <tr style=\"text-align: right;\">\n",
              "      <th></th>\n",
              "      <th>0</th>\n",
              "      <th>1</th>\n",
              "    </tr>\n",
              "  </thead>\n",
              "  <tbody>\n",
              "    <tr>\n",
              "      <th>0</th>\n",
              "      <td>10152.990353</td>\n",
              "      <td>9724.53000</td>\n",
              "    </tr>\n",
              "    <tr>\n",
              "      <th>1</th>\n",
              "      <td>9723.004387</td>\n",
              "      <td>8547.69130</td>\n",
              "    </tr>\n",
              "    <tr>\n",
              "      <th>2</th>\n",
              "      <td>44504.452045</td>\n",
              "      <td>45702.02235</td>\n",
              "    </tr>\n",
              "    <tr>\n",
              "      <th>3</th>\n",
              "      <td>13121.199389</td>\n",
              "      <td>12950.07120</td>\n",
              "    </tr>\n",
              "    <tr>\n",
              "      <th>4</th>\n",
              "      <td>10486.559448</td>\n",
              "      <td>9644.25250</td>\n",
              "    </tr>\n",
              "    <tr>\n",
              "      <th>...</th>\n",
              "      <td>...</td>\n",
              "      <td>...</td>\n",
              "    </tr>\n",
              "    <tr>\n",
              "      <th>263</th>\n",
              "      <td>16734.814117</td>\n",
              "      <td>15019.76005</td>\n",
              "    </tr>\n",
              "    <tr>\n",
              "      <th>264</th>\n",
              "      <td>6783.442690</td>\n",
              "      <td>6664.68595</td>\n",
              "    </tr>\n",
              "    <tr>\n",
              "      <th>265</th>\n",
              "      <td>11649.881877</td>\n",
              "      <td>20709.02034</td>\n",
              "    </tr>\n",
              "    <tr>\n",
              "      <th>266</th>\n",
              "      <td>43544.418502</td>\n",
              "      <td>40932.42950</td>\n",
              "    </tr>\n",
              "    <tr>\n",
              "      <th>267</th>\n",
              "      <td>9270.480844</td>\n",
              "      <td>9500.57305</td>\n",
              "    </tr>\n",
              "  </tbody>\n",
              "</table>\n",
              "<p>268 rows × 2 columns</p>\n",
              "</div>"
            ],
            "text/plain": [
              "                0            1\n",
              "0    10152.990353   9724.53000\n",
              "1     9723.004387   8547.69130\n",
              "2    44504.452045  45702.02235\n",
              "3    13121.199389  12950.07120\n",
              "4    10486.559448   9644.25250\n",
              "..            ...          ...\n",
              "263  16734.814117  15019.76005\n",
              "264   6783.442690   6664.68595\n",
              "265  11649.881877  20709.02034\n",
              "266  43544.418502  40932.42950\n",
              "267   9270.480844   9500.57305\n",
              "\n",
              "[268 rows x 2 columns]"
            ]
          },
          "metadata": {
            "tags": []
          },
          "execution_count": 24
        }
      ]
    },
    {
      "cell_type": "code",
      "metadata": {
        "colab": {
          "base_uri": "https://localhost:8080/"
        },
        "id": "HzEH6I2Wjlov",
        "outputId": "1980bc35-ab01-4642-ed95-50dc6f6899ab"
      },
      "source": [
        "from sklearn.metrics import mean_squared_error, r2_score\n",
        "print('Score on training set: ',rf_reg.score(X_train, y_train))\n",
        "\n",
        "print('r2 score: ' , r2_score(y_test, y_pred_rf))\n",
        "print('Random Forest Regression model RMSE: {}'.format(np.sqrt(mean_squared_error(y_test, y_pred_rf))))"
      ],
      "execution_count": null,
      "outputs": [
        {
          "output_type": "stream",
          "text": [
            "Score on training set:  0.9720198635588667\n",
            "r2 score:  0.8798528859351975\n",
            "Random Forest Regression model RMSE: 4372.528528694141\n"
          ],
          "name": "stdout"
        }
      ]
    },
    {
      "cell_type": "markdown",
      "metadata": {
        "id": "crmYvvvLmXWh"
      },
      "source": [
        "##### Hyperparameter Tuning for Random Forest"
      ]
    },
    {
      "cell_type": "code",
      "metadata": {
        "id": "Y5tkbv1eoM-S"
      },
      "source": [
        "n_estimators = [int(x) for x in np.linspace(start = 100, stop = 2000, num = 10)]\n",
        "max_features = ['auto', 'sqrt']\n",
        "max_depth = [int(x) for x in np.linspace(10, 220, num = 11)]\n",
        "max_depth.append(None)\n",
        "min_samples_split = [2, 5, 7, 10]\n",
        "min_samples_leaf = [1, 2, 4,5]\n",
        "bootstrap = [True, False]\n",
        "\n",
        "# Create the random grid\n",
        "random_grid = {'n_estimators': n_estimators,\n",
        "               'max_features': max_features,\n",
        "               'max_depth': max_depth,\n",
        "               'min_samples_split': min_samples_split,\n",
        "               'min_samples_leaf': min_samples_leaf,\n",
        "               'bootstrap': bootstrap}"
      ],
      "execution_count": null,
      "outputs": []
    },
    {
      "cell_type": "code",
      "metadata": {
        "colab": {
          "base_uri": "https://localhost:8080/"
        },
        "id": "WKc_GHI0j3Sc",
        "outputId": "1faa86cb-da84-45b0-8e50-f415b21e63d7"
      },
      "source": [
        "from sklearn.model_selection import RandomizedSearchCV\n",
        "rf_tune = RandomForestRegressor()\n",
        "rf_random = RandomizedSearchCV(estimator = rf_tune, param_distributions = random_grid, n_iter = 100, cv = 3, verbose = 2,\n",
        "                               random_state = 42, n_jobs = -1)\n",
        "rf_random.fit(X_train , y_train)"
      ],
      "execution_count": null,
      "outputs": [
        {
          "output_type": "stream",
          "text": [
            "Fitting 3 folds for each of 100 candidates, totalling 300 fits\n"
          ],
          "name": "stdout"
        },
        {
          "output_type": "stream",
          "text": [
            "[Parallel(n_jobs=-1)]: Using backend LokyBackend with 2 concurrent workers.\n",
            "[Parallel(n_jobs=-1)]: Done  37 tasks      | elapsed:  1.0min\n",
            "[Parallel(n_jobs=-1)]: Done 158 tasks      | elapsed:  4.1min\n",
            "[Parallel(n_jobs=-1)]: Done 300 out of 300 | elapsed:  7.2min finished\n",
            "/usr/local/lib/python3.7/dist-packages/sklearn/model_selection/_search.py:739: DataConversionWarning: A column-vector y was passed when a 1d array was expected. Please change the shape of y to (n_samples,), for example using ravel().\n",
            "  self.best_estimator_.fit(X, y, **fit_params)\n"
          ],
          "name": "stderr"
        },
        {
          "output_type": "execute_result",
          "data": {
            "text/plain": [
              "RandomizedSearchCV(cv=3, error_score=nan,\n",
              "                   estimator=RandomForestRegressor(bootstrap=True,\n",
              "                                                   ccp_alpha=0.0,\n",
              "                                                   criterion='mse',\n",
              "                                                   max_depth=None,\n",
              "                                                   max_features='auto',\n",
              "                                                   max_leaf_nodes=None,\n",
              "                                                   max_samples=None,\n",
              "                                                   min_impurity_decrease=0.0,\n",
              "                                                   min_impurity_split=None,\n",
              "                                                   min_samples_leaf=1,\n",
              "                                                   min_samples_split=2,\n",
              "                                                   min_weight_fraction_leaf=0.0,\n",
              "                                                   n_estimators=100,\n",
              "                                                   n_jobs=None, oob_score=Fals...\n",
              "                   param_distributions={'bootstrap': [True, False],\n",
              "                                        'max_depth': [10, 31, 52, 73, 94, 115,\n",
              "                                                      136, 157, 178, 199, 220,\n",
              "                                                      None],\n",
              "                                        'max_features': ['auto', 'sqrt'],\n",
              "                                        'min_samples_leaf': [1, 2, 4, 5],\n",
              "                                        'min_samples_split': [2, 5, 7, 10],\n",
              "                                        'n_estimators': [100, 311, 522, 733,\n",
              "                                                         944, 1155, 1366, 1577,\n",
              "                                                         1788, 2000]},\n",
              "                   pre_dispatch='2*n_jobs', random_state=42, refit=True,\n",
              "                   return_train_score=False, scoring=None, verbose=2)"
            ]
          },
          "metadata": {
            "tags": []
          },
          "execution_count": 27
        }
      ]
    },
    {
      "cell_type": "code",
      "metadata": {
        "colab": {
          "base_uri": "https://localhost:8080/"
        },
        "id": "Gg3Si_qEnmdX",
        "outputId": "ec76a92f-f6c7-420e-f7be-b9db709af30e"
      },
      "source": [
        "rf_random.best_params_"
      ],
      "execution_count": null,
      "outputs": [
        {
          "output_type": "execute_result",
          "data": {
            "text/plain": [
              "{'bootstrap': True,\n",
              " 'max_depth': 94,\n",
              " 'max_features': 'auto',\n",
              " 'min_samples_leaf': 5,\n",
              " 'min_samples_split': 2,\n",
              " 'n_estimators': 1155}"
            ]
          },
          "metadata": {
            "tags": []
          },
          "execution_count": 28
        }
      ]
    },
    {
      "cell_type": "code",
      "metadata": {
        "colab": {
          "base_uri": "https://localhost:8080/"
        },
        "id": "bEl7GWVmo8LH",
        "outputId": "a54e7419-3ec7-4f36-cd61-0c5227a95727"
      },
      "source": [
        "rf_tuned = RandomForestRegressor(bootstrap= True,\n",
        " max_depth= 94,\n",
        " max_features= 'auto',\n",
        " min_samples_leaf = 5,\n",
        " min_samples_split = 2,\n",
        " n_estimators= 1155)\n",
        "rf_tuned.fit(X_train, y_train)"
      ],
      "execution_count": null,
      "outputs": [
        {
          "output_type": "stream",
          "text": [
            "/usr/local/lib/python3.7/dist-packages/ipykernel_launcher.py:7: DataConversionWarning: A column-vector y was passed when a 1d array was expected. Please change the shape of y to (n_samples,), for example using ravel().\n",
            "  import sys\n"
          ],
          "name": "stderr"
        },
        {
          "output_type": "execute_result",
          "data": {
            "text/plain": [
              "RandomForestRegressor(bootstrap=True, ccp_alpha=0.0, criterion='mse',\n",
              "                      max_depth=94, max_features='auto', max_leaf_nodes=None,\n",
              "                      max_samples=None, min_impurity_decrease=0.0,\n",
              "                      min_impurity_split=None, min_samples_leaf=5,\n",
              "                      min_samples_split=2, min_weight_fraction_leaf=0.0,\n",
              "                      n_estimators=1155, n_jobs=None, oob_score=False,\n",
              "                      random_state=None, verbose=0, warm_start=False)"
            ]
          },
          "metadata": {
            "tags": []
          },
          "execution_count": 33
        }
      ]
    },
    {
      "cell_type": "code",
      "metadata": {
        "colab": {
          "base_uri": "https://localhost:8080/"
        },
        "id": "9Xhxsq9vs9of",
        "outputId": "1b0d2fdb-89db-4969-d8e6-94f3f4cfbce6"
      },
      "source": [
        "from sklearn.metrics import mean_squared_error, r2_score\n",
        "y_pred_rf_tune = rf_reg.predict(X_test) \n",
        "\n",
        "print('Score on training set: ',rf_tuned.score(X_train, y_train))\n",
        "print('r2 score: ' , r2_score(y_test, y_pred_rf_tune))\n",
        "print('Random Forest Regression Tuned model RMSE: {}'.format(np.sqrt(mean_squared_error(y_test, y_pred_rf_tune))))"
      ],
      "execution_count": null,
      "outputs": [
        {
          "output_type": "stream",
          "text": [
            "Score on training set:  0.9026518367011778\n",
            "r2 score:  0.8798528859351975\n",
            "Random Forest Regression Tuned model RMSE: 4372.528528694141\n"
          ],
          "name": "stdout"
        }
      ]
    },
    {
      "cell_type": "markdown",
      "metadata": {
        "id": "V9P0l6ifwFli"
      },
      "source": [
        "##### Grid Search with Cross Validation"
      ]
    },
    {
      "cell_type": "code",
      "metadata": {
        "id": "8ALFsRWcvuFG"
      },
      "source": [
        "from sklearn.model_selection import GridSearchCV\n",
        "param_grid = {\n",
        "    'bootstrap': [True],\n",
        "    'max_depth': [80, 100, 110,120, 150],\n",
        "    'max_features': [ 3, 4, 5],\n",
        "    'min_samples_leaf': [3, 5],\n",
        "    'min_samples_split': [8, 10, 12],\n",
        "    'n_estimators': [100, 200,500, 1000]\n",
        "}\n",
        "rf_grid = RandomForestRegressor()\n",
        "\n",
        "grid_search = GridSearchCV(estimator = rf_grid, param_grid = param_grid, \n",
        "                          cv = 3, n_jobs = -1, verbose = 2)"
      ],
      "execution_count": null,
      "outputs": []
    },
    {
      "cell_type": "code",
      "metadata": {
        "id": "_bMhvKy4wORl",
        "colab": {
          "base_uri": "https://localhost:8080/"
        },
        "outputId": "d69907a9-39f1-4bfa-e973-f46f02324eae"
      },
      "source": [
        "grid_search.fit(X_train, y_train)\n",
        "grid_search.best_params_"
      ],
      "execution_count": null,
      "outputs": [
        {
          "output_type": "stream",
          "text": [
            "Fitting 3 folds for each of 540 candidates, totalling 1620 fits\n"
          ],
          "name": "stdout"
        },
        {
          "output_type": "stream",
          "text": [
            "[Parallel(n_jobs=-1)]: Using backend LokyBackend with 2 concurrent workers.\n",
            "[Parallel(n_jobs=-1)]: Done  37 tasks      | elapsed:   19.8s\n",
            "[Parallel(n_jobs=-1)]: Done 158 tasks      | elapsed:  1.5min\n",
            "[Parallel(n_jobs=-1)]: Done 361 tasks      | elapsed:  3.6min\n",
            "[Parallel(n_jobs=-1)]: Done 644 tasks      | elapsed:  6.6min\n",
            "[Parallel(n_jobs=-1)]: Done 1009 tasks      | elapsed: 10.4min\n",
            "[Parallel(n_jobs=-1)]: Done 1454 tasks      | elapsed: 15.0min\n",
            "[Parallel(n_jobs=-1)]: Done 1620 out of 1620 | elapsed: 16.7min finished\n",
            "/usr/local/lib/python3.7/dist-packages/sklearn/model_selection/_search.py:739: DataConversionWarning: A column-vector y was passed when a 1d array was expected. Please change the shape of y to (n_samples,), for example using ravel().\n",
            "  self.best_estimator_.fit(X, y, **fit_params)\n"
          ],
          "name": "stderr"
        },
        {
          "output_type": "execute_result",
          "data": {
            "text/plain": [
              "{'bootstrap': True,\n",
              " 'max_depth': 150,\n",
              " 'max_features': 4,\n",
              " 'min_samples_leaf': 5,\n",
              " 'min_samples_split': 12,\n",
              " 'n_estimators': 200}"
            ]
          },
          "metadata": {
            "tags": []
          },
          "execution_count": 32
        }
      ]
    },
    {
      "cell_type": "code",
      "metadata": {
        "id": "VAPBOXt4xAXo",
        "colab": {
          "base_uri": "https://localhost:8080/"
        },
        "outputId": "0d9626ea-d176-4b0a-e3d0-fd9138913dd7"
      },
      "source": [
        "rf_grid_tuned = RandomForestRegressor(bootstrap = True,\n",
        " max_depth = 150,\n",
        " max_features = 4,\n",
        " min_samples_leaf = 5,\n",
        " min_samples_split = 12,\n",
        " n_estimators = 200)\n",
        "rf_grid_tuned.fit(X_train, y_train)"
      ],
      "execution_count": null,
      "outputs": [
        {
          "output_type": "stream",
          "text": [
            "/usr/local/lib/python3.7/dist-packages/ipykernel_launcher.py:7: DataConversionWarning: A column-vector y was passed when a 1d array was expected. Please change the shape of y to (n_samples,), for example using ravel().\n",
            "  import sys\n"
          ],
          "name": "stderr"
        },
        {
          "output_type": "execute_result",
          "data": {
            "text/plain": [
              "RandomForestRegressor(bootstrap=True, ccp_alpha=0.0, criterion='mse',\n",
              "                      max_depth=150, max_features=4, max_leaf_nodes=None,\n",
              "                      max_samples=None, min_impurity_decrease=0.0,\n",
              "                      min_impurity_split=None, min_samples_leaf=5,\n",
              "                      min_samples_split=12, min_weight_fraction_leaf=0.0,\n",
              "                      n_estimators=200, n_jobs=None, oob_score=False,\n",
              "                      random_state=None, verbose=0, warm_start=False)"
            ]
          },
          "metadata": {
            "tags": []
          },
          "execution_count": 38
        }
      ]
    },
    {
      "cell_type": "code",
      "metadata": {
        "id": "Q5mjTqGcxVp_",
        "colab": {
          "base_uri": "https://localhost:8080/"
        },
        "outputId": "e659eb14-d09a-451b-e759-a518e61115dc"
      },
      "source": [
        "from sklearn.metrics import mean_squared_error, r2_score\n",
        "y_pred_rf_tune_grid = rf_grid_tuned.predict(X_test) \n",
        "\n",
        "print('Score on training set: ',rf_grid_tuned.score(X_train, y_train))\n",
        "print('r2 score: ' , r2_score(y_test, y_pred_rf_tune_grid))\n",
        "print('Random Forest Regression Grid Cross CV Tuned model RMSE: {}'.format(np.sqrt(mean_squared_error(y_test, y_pred_rf_tune_grid))))"
      ],
      "execution_count": null,
      "outputs": [
        {
          "output_type": "stream",
          "text": [
            "Score on training set:  0.8978015740276342\n",
            "r2 score:  0.9009491834551663\n",
            "Random Forest Regression Grid Cross CV Tuned model RMSE: 3970.1325802490733\n"
          ],
          "name": "stdout"
        }
      ]
    }
  ]
}